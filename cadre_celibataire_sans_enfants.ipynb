{
 "metadata": {
  "name": "cadre_celibataire_sans_enfants"
 },
 "nbformat": 3,
 "nbformat_minor": 0,
 "worksheets": [
  {
   "cells": [
    {
     "cell_type": "code",
     "collapsed": false,
     "input": [
      "from __future__ import division\n",
      "\n",
      "import collections\n",
      "import copy\n",
      "import json\n",
      "import urllib2"
     ],
     "language": "python",
     "metadata": {},
     "outputs": [],
     "prompt_number": 4
    },
    {
     "cell_type": "code",
     "collapsed": false,
     "input": [
      "base_scenario = dict(\n",
      "    familles = [\n",
      "        dict(\n",
      "            parents = ['ind0'],\n",
      "            ),\n",
      "        ],\n",
      "    foyers_fiscaux = [\n",
      "        dict(\n",
      "            declarants = ['ind0'],\n",
      "            ),\n",
      "        ],\n",
      "    individus = [\n",
      "        dict(\n",
      "            activite = u'Actif occup\u00e9',\n",
      "            birth = '1970-01-01',\n",
      "            cadre = True,\n",
      "            id = 'ind0',\n",
      "            sali = 50000,\n",
      "            statmarit = u'C\u00e9libataire',\n",
      "            ),\n",
      "        ],\n",
      "    legislation_url = 'http://api.openfisca.fr/api/1/default-legislation',\n",
      "    menages = [\n",
      "        dict(\n",
      "            personne_de_reference = 'ind0',\n",
      "            ),\n",
      "        ],\n",
      "    )\n",
      "years = [2013]"
     ],
     "language": "python",
     "metadata": {},
     "outputs": [],
     "prompt_number": 5
    },
    {
     "cell_type": "code",
     "collapsed": false,
     "input": [
      "scenarios = []\n",
      "for year in years:\n",
      "    scenario = copy.deepcopy(base_scenario)\n",
      "    scenario['year'] = year\n",
      "    scenarios.append(scenario)\n",
      "\n",
      "simulation = dict(\n",
      "    scenarios = scenarios,\n",
      "    )\n",
      "\n",
      "request = urllib2.Request('http://api.openfisca.fr/api/1/simulate', headers = {\n",
      "    'Content-Type': 'application/json',\n",
      "    'User-Agent': 'OpenFisca-Notebook',\n",
      "    })\n",
      "try:\n",
      "    response = urllib2.urlopen(request, json.dumps(simulation))\n",
      "except urllib2.HTTPError as response:\n",
      "    print response.read()\n",
      "    raise\n",
      "response_dict = json.loads(response.read(), object_pairs_hook = collections.OrderedDict)\n",
      "trees = response_dict['value']"
     ],
     "language": "python",
     "metadata": {},
     "outputs": [],
     "prompt_number": 6
    },
    {
     "cell_type": "code",
     "collapsed": false,
     "input": [
      "def iter_columns_from_tree(node, base_value = 0, code = None):\n",
      "    children = node.get('children')\n",
      "    if children:\n",
      "        child_base_value = base_value\n",
      "        for child_code, child in children.iteritems():\n",
      "            for column in iter_columns_from_tree(child, base_value = child_base_value, code = child_code):\n",
      "                yield column\n",
      "            child_base_value += child['values'][value_index]\n",
      "\n",
      "    value = node['values'][value_index]\n",
      "    if value != 0 and code is not None:\n",
      "        column = dict(\n",
      "            base_value = base_value,\n",
      "            code = code,\n",
      "            value = value,\n",
      "            )\n",
      "        column.update(node)\n",
      "        yield column"
     ],
     "language": "python",
     "metadata": {},
     "outputs": [],
     "prompt_number": 7
    },
    {
     "cell_type": "code",
     "collapsed": false,
     "input": [
      "value_index = 0\n",
      "tree = trees[0]\n",
      "for column_index, column in enumerate(iter_columns_from_tree(tree)):\n",
      "    print u'{:20s} | {:10.2f}'.format(column['name'], column['value'])"
     ],
     "language": "python",
     "metadata": {},
     "outputs": [
      {
       "output_type": "stream",
       "stream": "stdout",
       "text": [
        "Co\u00fbt travail         |   88139.32\n",
        "Cotsoc pat           |  -27043.85\n",
        "Sal. bruts           |   61095.47\n",
        "Cotsoc sal           |   -8034.13\n",
        "CSG deduc            |   -3061.34\n",
        "Sal. impos.          |   50000.00\n",
        "CSG imp. sal.        |   -1440.63\n",
        "CRDS sal.            |    -300.13\n",
        "Sal. nets            |   48259.24\n",
        "Rev. travail         |   48259.24\n",
        "Rev. nets            |   48259.24\n",
        "IRPP                 |   -7889.20\n",
        "Imp\u00f4ts directs       |   -7889.20\n",
        "Rev. disp.           |   40370.04\n"
       ]
      }
     ],
     "prompt_number": 8
    },
    {
     "cell_type": "code",
     "collapsed": false,
     "input": [],
     "language": "python",
     "metadata": {},
     "outputs": []
    }
   ],
   "metadata": {}
  }
 ]
}