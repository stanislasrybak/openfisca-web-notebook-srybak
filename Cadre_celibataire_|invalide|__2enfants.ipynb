{
 "metadata": {
  "name": "Cadre_celibataire_|invalide|__2enfants"
 },
 "nbformat": 3,
 "nbformat_minor": 0,
 "worksheets": [
  {
   "cells": [
    {
     "cell_type": "code",
     "collapsed": false,
     "input": [
      "from __future__ import division\n",
      "\n",
      "import collections\n",
      "import copy\n",
      "import json\n",
      "import urllib2"
     ],
     "language": "python",
     "metadata": {},
     "outputs": [],
     "prompt_number": 72
    },
    {
     "cell_type": "code",
     "collapsed": false,
     "input": [
      "# base de scenario, individu 'ind0' c\u00e9libataire de 40 ans (invalide) gagnant 3 350\u20ac par mois (40 200\u20ac annuel). Cet individu a 2 enfants le premier \n",
      "# un \u00e9tudiant de 22 ans 'ind0' et le deuxi\u00e8me un enfant d'un an 'ind1'.\n",
      "base_scenario = dict(\n",
      "    familles = [\n",
      "        dict(\n",
      "            parents = ['ind0'],\n",
      "            enfants = ['ind1', 'ind2'],\n",
      "            ),\n",
      "        ],\n",
      "    foyers_fiscaux = [\n",
      "        dict(\n",
      "            declarants = ['ind0'],\n",
      "            personnes_a_charge = ['ind1', 'ind2'],\n",
      "            ),\n",
      "        ],\n",
      "    individus = [\n",
      "        dict(\n",
      "            activite = u'Actif occup\u00e9',\n",
      "            birth = '1974-03-03',\n",
      "            cadre = True,\n",
      "            inv = True,\n",
      "            id = 'ind0',\n",
      "            sali = 40200,\n",
      "            statmarit = u'C\u00e9libataire',\n",
      "            ),\n",
      "        dict(\n",
      "            activite = u'\u00c9tudiant, \u00e9l\u00e8ve',\n",
      "            birth = '1992-02-01',\n",
      "            boursier = True,\n",
      "            id = 'ind1',\n",
      "            ),\n",
      "        dict(\n",
      "            activite = u'Autre inactif',\n",
      "            birth = '2013-01-15',\n",
      "            id = 'ind2',\n",
      "            ),\n",
      "        ],\n",
      "    legislation_url = 'http://api.openfisca.fr/api/1/default-legislation',\n",
      "    menages = [\n",
      "        dict(\n",
      "            personne_de_reference = 'ind0',\n",
      "            enfants = ['ind1', 'ind2'],\n",
      "            ),\n",
      "        ],\n",
      "    )\n",
      "years = [2013]"
     ],
     "language": "python",
     "metadata": {},
     "outputs": [],
     "prompt_number": 73
    },
    {
     "cell_type": "code",
     "collapsed": false,
     "input": [
      "scenarios = []\n",
      "for year in years:\n",
      "    scenario = copy.deepcopy(base_scenario)\n",
      "    scenario['year'] = year\n",
      "    scenarios.append(scenario)\n",
      "\n",
      "simulation = dict(\n",
      "    scenarios = scenarios,\n",
      "    )\n",
      "\n",
      "request = urllib2.Request('http://api.openfisca.fr/api/1/simulate', headers = {\n",
      "    'Content-Type': 'application/json',\n",
      "    'User-Agent': 'OpenFisca-Notebook',\n",
      "    })\n",
      "try:\n",
      "    response = urllib2.urlopen(request, json.dumps(simulation))\n",
      "except urllib2.HTTPError as response:\n",
      "    print response.read()\n",
      "    raise\n",
      "response_dict = json.loads(response.read(), object_pairs_hook = collections.OrderedDict)\n",
      "trees = response_dict['value']"
     ],
     "language": "python",
     "metadata": {},
     "outputs": [],
     "prompt_number": 74
    },
    {
     "cell_type": "code",
     "collapsed": false,
     "input": [
      "def iter_columns_from_tree(node, base_value = 0, code = None):\n",
      "    children = node.get('children')\n",
      "    if children:\n",
      "        child_base_value = base_value\n",
      "        for child_code, child in children.iteritems():\n",
      "            for column in iter_columns_from_tree(child, base_value = child_base_value, code = child_code):\n",
      "                yield column\n",
      "            child_base_value += child['values'][value_index]\n",
      "\n",
      "    value = node['values'][value_index]\n",
      "    if value != 0 and code is not None:\n",
      "        column = dict(\n",
      "            base_value = base_value,\n",
      "            code = code,\n",
      "            value = value,\n",
      "            )\n",
      "        column.update(node)\n",
      "        yield column"
     ],
     "language": "python",
     "metadata": {},
     "outputs": [],
     "prompt_number": 75
    },
    {
     "cell_type": "code",
     "collapsed": false,
     "input": [
      "value_index = 0\n",
      "tree = trees[0]\n",
      "for column_index, column in enumerate(iter_columns_from_tree(tree)):\n",
      "    print u'{:20s} | {:40s} | {:10.2f}'.format(column['name'], column.get('description'), column['value'])"
     ],
     "language": "python",
     "metadata": {},
     "outputs": [
      {
       "output_type": "stream",
       "stream": "stdout",
       "text": [
        "Co\u00fbt travail         | Salaires super bruts                     |   71129.94\n",
        "Cotsoc pat           | Cotisations sociales patronales          |  -21864.62\n",
        "Sal. bruts           | Salaires bruts                           |   49265.33\n",
        "Cotsoc sal           | Cotisations sociales salari\u00e9es           |   -6596.77\n",
        "CSG deduc            | CSG d\u00e9ductible (salaires)                |   -2468.56\n",
        "Sal. impos.          | Salaires imposables                      |   40200.00\n",
        "CSG imp. sal.        | CSG non d\u00e9ductible (salaires)            |   -1161.68\n",
        "CRDS sal.            | CRDS (salaires)                          |    -242.02\n",
        "Sal. nets            | Salaires nets                            |   38796.31\n",
        "Rev. travail         | Revenu du travail                        |   38796.31\n",
        "Rev. nets            | Revenus nets                             |   38796.31\n",
        "PAJE                 | Paje - Allocation de base                |    2200.08\n",
        "Prime naiss.         | Paje - Prime de naissance                |     916.70\n",
        "PAJE                 | Prestation d'accueil du jeune enfant     |    3116.78\n",
        "CRDS fam.            | CRDS (prestations familiales)            |     -15.58\n",
        "Prest. fam.          | Prestations familiales                   |    3101.20\n",
        "Prest. soc.          | Prestations sociales                     |    3101.20\n",
        "IRPP                 | Imp\u00f4t sur le revenu                      |   -5243.20\n",
        "Imp\u00f4ts directs       | Imp\u00f4ts directs                           |   -5243.20\n",
        "Rev. disp.           | Revenu disponible                        |   36654.30\n"
       ]
      }
     ],
     "prompt_number": 84
    },
    {
     "cell_type": "code",
     "collapsed": false,
     "input": [],
     "language": "python",
     "metadata": {},
     "outputs": [],
     "prompt_number": 76
    },
    {
     "cell_type": "code",
     "collapsed": false,
     "input": [],
     "language": "python",
     "metadata": {},
     "outputs": [],
     "prompt_number": 76
    }
   ],
   "metadata": {}
  }
 ]
}